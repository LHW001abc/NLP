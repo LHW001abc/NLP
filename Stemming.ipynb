{
 "cells": [
  {
   "cell_type": "markdown",
   "id": "e611be7a",
   "metadata": {},
   "source": [
    "### Stemming"
   ]
  },
  {
   "cell_type": "markdown",
   "id": "e1a52a1c",
   "metadata": {},
   "source": [
    "Stemming is a natural language processing (NLP) technique used to reduce words to their root or base form, which is called the \"stem.\" Stemming is commonly used as a pre-processing step in text mining and information retrieval tasks, such as document classification, clustering, and search engines.\n",
    "\n",
    "The stem is the part of the word that remains after removing any prefixes or suffixes. For example, the word \"running\" can be reduced to its stem \"run\" by removing the suffix \"-ing\". Similarly, the word \"cats\" can be reduced to its stem \"cat\" by removing the suffix \"-s\".\n",
    "\n",
    "Stemming algorithms use a set of rules or algorithms to perform this process automatically, based on linguistic principles and heuristics. There are several popular stemming algorithms, such as Porter Stemming Algorithm, Snowball Stemming Algorithm, and Lancaster Stemming Algorithm.\n",
    "\n",
    "The primary goal of stemming is to reduce the number of unique words in a corpus, while still preserving the core meaning of the text. This can improve the efficiency and accuracy of many NLP tasks, by reducing the number of distinct tokens that must be processed or analyzed."
   ]
  },
  {
   "cell_type": "code",
   "execution_count": 1,
   "id": "83c05ebf",
   "metadata": {},
   "outputs": [
    {
     "name": "stdout",
     "output_type": "stream",
     "text": [
      "walking -> walk\n",
      "jumps -> jump\n",
      "jumped -> jump\n",
      "jumping -> jump\n"
     ]
    }
   ],
   "source": [
    "import nltk\n",
    "from nltk.stem import PorterStemmer\n",
    "\n",
    "# Create a stemmer object\n",
    "stemmer = PorterStemmer()\n",
    "\n",
    "# Stem some example words\n",
    "words = [\"walking\", \"jumps\", \"jumped\", \"jumping\"]\n",
    "for word in words:\n",
    "    stemmed_word = stemmer.stem(word)\n",
    "    print(f\"{word} -> {stemmed_word}\")\n"
   ]
  },
  {
   "cell_type": "code",
   "execution_count": null,
   "id": "5563098e",
   "metadata": {},
   "outputs": [],
   "source": []
  },
  {
   "cell_type": "code",
   "execution_count": null,
   "id": "723f903d",
   "metadata": {},
   "outputs": [],
   "source": []
  },
  {
   "cell_type": "code",
   "execution_count": null,
   "id": "ed95a972",
   "metadata": {},
   "outputs": [],
   "source": []
  }
 ],
 "metadata": {
  "kernelspec": {
   "display_name": "Python 3 (ipykernel)",
   "language": "python",
   "name": "python3"
  },
  "language_info": {
   "codemirror_mode": {
    "name": "ipython",
    "version": 3
   },
   "file_extension": ".py",
   "mimetype": "text/x-python",
   "name": "python",
   "nbconvert_exporter": "python",
   "pygments_lexer": "ipython3",
   "version": "3.9.13"
  }
 },
 "nbformat": 4,
 "nbformat_minor": 5
}
