{
 "cells": [
  {
   "cell_type": "code",
   "execution_count": 6,
   "id": "3a57b7ba",
   "metadata": {},
   "outputs": [
    {
     "name": "stdout",
     "output_type": "stream",
     "text": [
      "[[0.         0.         0.32467583 0.         0.32467583 0.\n",
      "  0.32467583 0.         0.32467583 0.32467583 0.         0.\n",
      "  0.32467583 0.32467583 0.         0.         0.         0.\n",
      "  0.5119563  0.         0.         0.        ]\n",
      " [0.         0.         0.         0.         0.         0.\n",
      "  0.         0.4472136  0.         0.         0.         0.4472136\n",
      "  0.         0.         0.4472136  0.         0.4472136  0.\n",
      "  0.         0.4472136  0.         0.        ]\n",
      " [0.         0.39264414 0.         0.39264414 0.         0.39264414\n",
      "  0.         0.         0.         0.         0.         0.\n",
      "  0.         0.         0.         0.         0.         0.\n",
      "  0.6191303  0.         0.         0.39264414]\n",
      " [0.4472136  0.         0.         0.         0.         0.\n",
      "  0.         0.         0.         0.         0.4472136  0.\n",
      "  0.         0.         0.         0.4472136  0.         0.4472136\n",
      "  0.         0.         0.4472136  0.        ]]\n"
     ]
    }
   ],
   "source": [
    "from sklearn.feature_extraction.text import TfidfVectorizer\n",
    "import pandas as pd\n",
    "\n",
    "# Example documents\n",
    "docs = [\n",
    "  \"The quick brown fox jumps over the lazy dog.\",\n",
    "  \"A stitch in time saves nine.\",\n",
    "  \"The early bird catches the worm.\",\n",
    "  \"Actions speak louder than words.\",\n",
    "]\n",
    "\n",
    "# Create a TF-IDF vectorizer instance\n",
    "tfidf = TfidfVectorizer()\n",
    "\n",
    "# Fit the vectorizer to the documents\n",
    "tfidf.fit(docs)\n",
    "\n",
    "# Transform the documents into a TF-IDF matrix\n",
    "tfidf_matrix = tfidf.transform(docs)\n",
    "print(tfidf_matrix.toarray())\n",
    "\n"
   ]
  },
  {
   "cell_type": "code",
   "execution_count": 5,
   "id": "5cf825ba",
   "metadata": {},
   "outputs": [
    {
     "name": "stdout",
     "output_type": "stream",
     "text": [
      "    actions      bird     brown   catches       dog     early       fox  \\\n",
      "0  0.000000  0.000000  0.324676  0.000000  0.324676  0.000000  0.324676   \n",
      "1  0.000000  0.000000  0.000000  0.000000  0.000000  0.000000  0.000000   \n",
      "2  0.000000  0.392644  0.000000  0.392644  0.000000  0.392644  0.000000   \n",
      "3  0.447214  0.000000  0.000000  0.000000  0.000000  0.000000  0.000000   \n",
      "\n",
      "         in     jumps      lazy  ...      over     quick     saves     speak  \\\n",
      "0  0.000000  0.324676  0.324676  ...  0.324676  0.324676  0.000000  0.000000   \n",
      "1  0.447214  0.000000  0.000000  ...  0.000000  0.000000  0.447214  0.000000   \n",
      "2  0.000000  0.000000  0.000000  ...  0.000000  0.000000  0.000000  0.000000   \n",
      "3  0.000000  0.000000  0.000000  ...  0.000000  0.000000  0.000000  0.447214   \n",
      "\n",
      "     stitch      than       the      time     words      worm  \n",
      "0  0.000000  0.000000  0.511956  0.000000  0.000000  0.000000  \n",
      "1  0.447214  0.000000  0.000000  0.447214  0.000000  0.000000  \n",
      "2  0.000000  0.000000  0.619130  0.000000  0.000000  0.392644  \n",
      "3  0.000000  0.447214  0.000000  0.000000  0.447214  0.000000  \n",
      "\n",
      "[4 rows x 22 columns]\n"
     ]
    },
    {
     "name": "stderr",
     "output_type": "stream",
     "text": [
      "C:\\Users\\amb\\anaconda5\\lib\\site-packages\\sklearn\\utils\\deprecation.py:87: FutureWarning: Function get_feature_names is deprecated; get_feature_names is deprecated in 1.0 and will be removed in 1.2. Please use get_feature_names_out instead.\n",
      "  warnings.warn(msg, category=FutureWarning)\n"
     ]
    }
   ],
   "source": [
    "# Convert the matrix to a pandas dataframe\n",
    "df_tfidf = pd.DataFrame(tfidf_matrix.toarray(), columns=tfidf.get_feature_names())\n",
    "\n",
    "# Display the dataframe\n",
    "print(df_tfidf)"
   ]
  },
  {
   "cell_type": "code",
   "execution_count": null,
   "id": "2e329692",
   "metadata": {},
   "outputs": [],
   "source": []
  }
 ],
 "metadata": {
  "kernelspec": {
   "display_name": "Python 3 (ipykernel)",
   "language": "python",
   "name": "python3"
  },
  "language_info": {
   "codemirror_mode": {
    "name": "ipython",
    "version": 3
   },
   "file_extension": ".py",
   "mimetype": "text/x-python",
   "name": "python",
   "nbconvert_exporter": "python",
   "pygments_lexer": "ipython3",
   "version": "3.9.13"
  }
 },
 "nbformat": 4,
 "nbformat_minor": 5
}
