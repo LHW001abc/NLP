{
 "cells": [
  {
   "cell_type": "code",
   "execution_count": 6,
   "id": "d0a2918b",
   "metadata": {},
   "outputs": [],
   "source": [
    "import numpy as np\n",
    "import pandas as pd\n",
    "from sklearn.feature_extraction.text import CountVectorizer\n",
    "from sklearn.model_selection import train_test_split\n",
    "from sklearn.naive_bayes import MultinomialNB\n",
    "from sklearn.feature_extraction.text import TfidfVectorizer"
   ]
  },
  {
   "cell_type": "code",
   "execution_count": 10,
   "id": "86b68eea",
   "metadata": {},
   "outputs": [],
   "source": [
    "df=pd.read_csv('sms.csv',sep='\\t',names=['Status','Message'])\n"
   ]
  },
  {
   "cell_type": "code",
   "execution_count": 11,
   "id": "431c2658",
   "metadata": {},
   "outputs": [
    {
     "data": {
      "text/html": [
       "<div>\n",
       "<style scoped>\n",
       "    .dataframe tbody tr th:only-of-type {\n",
       "        vertical-align: middle;\n",
       "    }\n",
       "\n",
       "    .dataframe tbody tr th {\n",
       "        vertical-align: top;\n",
       "    }\n",
       "\n",
       "    .dataframe thead th {\n",
       "        text-align: right;\n",
       "    }\n",
       "</style>\n",
       "<table border=\"1\" class=\"dataframe\">\n",
       "  <thead>\n",
       "    <tr style=\"text-align: right;\">\n",
       "      <th></th>\n",
       "      <th>Status</th>\n",
       "      <th>Message</th>\n",
       "    </tr>\n",
       "  </thead>\n",
       "  <tbody>\n",
       "    <tr>\n",
       "      <th>0</th>\n",
       "      <td>ham</td>\n",
       "      <td>Go until jurong point, crazy.. Available only ...</td>\n",
       "    </tr>\n",
       "    <tr>\n",
       "      <th>1</th>\n",
       "      <td>ham</td>\n",
       "      <td>Ok lar... Joking wif u oni...</td>\n",
       "    </tr>\n",
       "    <tr>\n",
       "      <th>2</th>\n",
       "      <td>spam</td>\n",
       "      <td>Free entry in 2 a wkly comp to win FA Cup fina...</td>\n",
       "    </tr>\n",
       "    <tr>\n",
       "      <th>3</th>\n",
       "      <td>ham</td>\n",
       "      <td>U dun say so early hor... U c already then say...</td>\n",
       "    </tr>\n",
       "    <tr>\n",
       "      <th>4</th>\n",
       "      <td>ham</td>\n",
       "      <td>Nah I don't think he goes to usf, he lives aro...</td>\n",
       "    </tr>\n",
       "  </tbody>\n",
       "</table>\n",
       "</div>"
      ],
      "text/plain": [
       "  Status                                            Message\n",
       "0    ham  Go until jurong point, crazy.. Available only ...\n",
       "1    ham                      Ok lar... Joking wif u oni...\n",
       "2   spam  Free entry in 2 a wkly comp to win FA Cup fina...\n",
       "3    ham  U dun say so early hor... U c already then say...\n",
       "4    ham  Nah I don't think he goes to usf, he lives aro..."
      ]
     },
     "execution_count": 11,
     "metadata": {},
     "output_type": "execute_result"
    }
   ],
   "source": [
    "df.head()\n"
   ]
  },
  {
   "cell_type": "code",
   "execution_count": 12,
   "id": "cd66eb1b",
   "metadata": {},
   "outputs": [
    {
     "data": {
      "text/plain": [
       "5572"
      ]
     },
     "execution_count": 12,
     "metadata": {},
     "output_type": "execute_result"
    }
   ],
   "source": [
    "len(df)\n"
   ]
  },
  {
   "cell_type": "code",
   "execution_count": 13,
   "id": "e316de13",
   "metadata": {},
   "outputs": [
    {
     "data": {
      "text/plain": [
       "747"
      ]
     },
     "execution_count": 13,
     "metadata": {},
     "output_type": "execute_result"
    }
   ],
   "source": [
    "len(df[df.Status=='spam'])\n"
   ]
  },
  {
   "cell_type": "code",
   "execution_count": 14,
   "id": "951880f8",
   "metadata": {},
   "outputs": [
    {
     "data": {
      "text/plain": [
       "4825"
      ]
     },
     "execution_count": 14,
     "metadata": {},
     "output_type": "execute_result"
    }
   ],
   "source": [
    "len(df[df.Status=='ham'])\n"
   ]
  },
  {
   "cell_type": "code",
   "execution_count": 16,
   "id": "72988d77",
   "metadata": {},
   "outputs": [],
   "source": [
    "df.loc[df[\"Status\"]=='ham',\"Status\",]=1\n"
   ]
  },
  {
   "cell_type": "code",
   "execution_count": 17,
   "id": "052a76d0",
   "metadata": {},
   "outputs": [],
   "source": [
    "df.loc[df[\"Status\"]=='spam',\"Status\",]=0\n"
   ]
  },
  {
   "cell_type": "code",
   "execution_count": 18,
   "id": "00958449",
   "metadata": {},
   "outputs": [
    {
     "data": {
      "text/html": [
       "<div>\n",
       "<style scoped>\n",
       "    .dataframe tbody tr th:only-of-type {\n",
       "        vertical-align: middle;\n",
       "    }\n",
       "\n",
       "    .dataframe tbody tr th {\n",
       "        vertical-align: top;\n",
       "    }\n",
       "\n",
       "    .dataframe thead th {\n",
       "        text-align: right;\n",
       "    }\n",
       "</style>\n",
       "<table border=\"1\" class=\"dataframe\">\n",
       "  <thead>\n",
       "    <tr style=\"text-align: right;\">\n",
       "      <th></th>\n",
       "      <th>Status</th>\n",
       "      <th>Message</th>\n",
       "    </tr>\n",
       "  </thead>\n",
       "  <tbody>\n",
       "    <tr>\n",
       "      <th>0</th>\n",
       "      <td>1</td>\n",
       "      <td>Go until jurong point, crazy.. Available only ...</td>\n",
       "    </tr>\n",
       "    <tr>\n",
       "      <th>1</th>\n",
       "      <td>1</td>\n",
       "      <td>Ok lar... Joking wif u oni...</td>\n",
       "    </tr>\n",
       "    <tr>\n",
       "      <th>2</th>\n",
       "      <td>0</td>\n",
       "      <td>Free entry in 2 a wkly comp to win FA Cup fina...</td>\n",
       "    </tr>\n",
       "    <tr>\n",
       "      <th>3</th>\n",
       "      <td>1</td>\n",
       "      <td>U dun say so early hor... U c already then say...</td>\n",
       "    </tr>\n",
       "    <tr>\n",
       "      <th>4</th>\n",
       "      <td>1</td>\n",
       "      <td>Nah I don't think he goes to usf, he lives aro...</td>\n",
       "    </tr>\n",
       "  </tbody>\n",
       "</table>\n",
       "</div>"
      ],
      "text/plain": [
       "  Status                                            Message\n",
       "0      1  Go until jurong point, crazy.. Available only ...\n",
       "1      1                      Ok lar... Joking wif u oni...\n",
       "2      0  Free entry in 2 a wkly comp to win FA Cup fina...\n",
       "3      1  U dun say so early hor... U c already then say...\n",
       "4      1  Nah I don't think he goes to usf, he lives aro..."
      ]
     },
     "execution_count": 18,
     "metadata": {},
     "output_type": "execute_result"
    }
   ],
   "source": [
    "df.head()\n"
   ]
  },
  {
   "cell_type": "code",
   "execution_count": 19,
   "id": "bbf763fb",
   "metadata": {},
   "outputs": [],
   "source": [
    "df_x=df[\"Message\"]\n",
    "df_y=df[\"Status\"]"
   ]
  },
  {
   "cell_type": "code",
   "execution_count": 20,
   "id": "016c8fd5",
   "metadata": {},
   "outputs": [],
   "source": [
    "cv = TfidfVectorizer(min_df=1,stop_words='english')\n"
   ]
  },
  {
   "cell_type": "code",
   "execution_count": 26,
   "id": "773c30df",
   "metadata": {},
   "outputs": [
    {
     "name": "stdout",
     "output_type": "stream",
     "text": [
      "['brown', 'cat', 'dog', 'fox', 'lazy', 'quick', 'the']\n",
      "[[0.4804584  0.         0.         0.63174505 0.         0.4804584\n",
      "  0.37311881]\n",
      " [0.         0.         0.65249088 0.         0.65249088 0.\n",
      "  0.38537163]\n",
      " [0.4804584  0.63174505 0.         0.         0.         0.4804584\n",
      "  0.37311881]]\n"
     ]
    },
    {
     "name": "stderr",
     "output_type": "stream",
     "text": [
      "C:\\Users\\amb\\anaconda5\\lib\\site-packages\\sklearn\\utils\\deprecation.py:87: FutureWarning: Function get_feature_names is deprecated; get_feature_names is deprecated in 1.0 and will be removed in 1.2. Please use get_feature_names_out instead.\n",
      "  warnings.warn(msg, category=FutureWarning)\n"
     ]
    }
   ],
   "source": [
    "doc1 = \"the quick brown fox\"\n",
    "doc2 = \"the lazy dog\"\n",
    "doc3 = \"the quick brown cat\"\n",
    "\n",
    "cv = TfidfVectorizer()\n",
    "X = cv.fit_transform([doc1, doc2, doc3])\n",
    "print(cv.get_feature_names())  # ['brown', 'cat', 'dog', 'fox', 'lazy', 'quick', 'the']\n",
    "print(X.toarray())"
   ]
  },
  {
   "cell_type": "code",
   "execution_count": 27,
   "id": "11b45ba3",
   "metadata": {},
   "outputs": [
    {
     "name": "stdout",
     "output_type": "stream",
     "text": [
      "['brown', 'quick', 'the']\n",
      "[[0.61980538 0.61980538 0.48133417]\n",
      " [0.         0.         1.        ]\n",
      " [0.61980538 0.61980538 0.48133417]]\n"
     ]
    }
   ],
   "source": [
    "cv = TfidfVectorizer(min_df=2)\n",
    "X = cv.fit_transform([doc1, doc2, doc3])\n",
    "print(cv.get_feature_names())  # ['brown', 'quick', 'the']\n",
    "print(X.toarray())"
   ]
  },
  {
   "cell_type": "code",
   "execution_count": 73,
   "id": "b55d1a6f",
   "metadata": {},
   "outputs": [],
   "source": [
    "x_train, x_test, y_train, y_test = train_test_split(df_x, df_y, test_size=0.2, random_state=4)\n"
   ]
  },
  {
   "cell_type": "code",
   "execution_count": 74,
   "id": "1f8e1b14",
   "metadata": {},
   "outputs": [
    {
     "data": {
      "text/plain": [
       "1115"
      ]
     },
     "execution_count": 74,
     "metadata": {},
     "output_type": "execute_result"
    }
   ],
   "source": [
    "len(x_test)"
   ]
  },
  {
   "cell_type": "code",
   "execution_count": 29,
   "id": "b38fde35",
   "metadata": {},
   "outputs": [
    {
     "data": {
      "text/plain": [
       "1457    U sleeping now.. Or you going to take? Haha.. ...\n",
       "472     How long has it been since you screamed, princ...\n",
       "2481    Urgent! call 09066612661 from landline. Your c...\n",
       "243     Okay. No no, just shining on. That was meant t...\n",
       "1413    Wen ur lovable bcums angry wid u, dnt take it ...\n",
       "Name: Message, dtype: object"
      ]
     },
     "execution_count": 29,
     "metadata": {},
     "output_type": "execute_result"
    }
   ],
   "source": [
    "x_train.head()\n"
   ]
  },
  {
   "cell_type": "code",
   "execution_count": 32,
   "id": "b1a92b26",
   "metadata": {},
   "outputs": [
    {
     "name": "stdout",
     "output_type": "stream",
     "text": [
      "['awesome', 'doing', 'hi', 'wow']\n",
      "[[0.         0.79596054 0.60534851 0.        ]\n",
      " [0.         0.         1.         0.        ]\n",
      " [0.70710678 0.         0.         0.70710678]]\n"
     ]
    }
   ],
   "source": [
    "cv = TfidfVectorizer(min_df=1,stop_words='english')\n",
    "x_traincv = cv.fit_transform([\"Hi How are you How are you doing\",\"Hi what's up\",\"Wow that's awesome\"])\n",
    "feature_names = cv.get_feature_names()\n",
    "\n",
    "# Print the feature names and the TF-IDF matrix\n",
    "print(feature_names)\n",
    "print(x_traincv.toarray())"
   ]
  },
  {
   "cell_type": "code",
   "execution_count": 34,
   "id": "d0e9358d",
   "metadata": {},
   "outputs": [],
   "source": [
    "cv1 = TfidfVectorizer(min_df=1,stop_words='english')\n"
   ]
  },
  {
   "cell_type": "code",
   "execution_count": 42,
   "id": "d600f91a",
   "metadata": {},
   "outputs": [
    {
     "data": {
      "text/plain": [
       "array([0., 0., 0., ..., 0., 0., 0.])"
      ]
     },
     "execution_count": 42,
     "metadata": {},
     "output_type": "execute_result"
    }
   ],
   "source": [
    "x_traincv=cv1.fit_transform(x_train)\n",
    "a=x_traincv.toarray()\n",
    "a[0]\n"
   ]
  },
  {
   "cell_type": "code",
   "execution_count": 45,
   "id": "6f3099aa",
   "metadata": {},
   "outputs": [
    {
     "data": {
      "text/plain": [
       "array([[0., 0., 0., ..., 0., 0., 0.],\n",
       "       [0., 0., 0., ..., 0., 0., 0.],\n",
       "       [0., 0., 0., ..., 0., 0., 0.],\n",
       "       ...,\n",
       "       [0., 0., 0., ..., 0., 0., 0.],\n",
       "       [0., 0., 0., ..., 0., 0., 0.],\n",
       "       [0., 0., 0., ..., 0., 0., 0.]])"
      ]
     },
     "execution_count": 45,
     "metadata": {},
     "output_type": "execute_result"
    }
   ],
   "source": [
    "x_testcv=cv1.transform(x_test)\n",
    "x_testcv.toarray()\n"
   ]
  },
  {
   "cell_type": "code",
   "execution_count": 46,
   "id": "7674fc3d",
   "metadata": {},
   "outputs": [],
   "source": [
    " mnb = MultinomialNB()\n"
   ]
  },
  {
   "cell_type": "code",
   "execution_count": 48,
   "id": "cf4bfcef",
   "metadata": {},
   "outputs": [
    {
     "data": {
      "text/plain": [
       "1457    1\n",
       "472     1\n",
       "2481    0\n",
       "243     1\n",
       "1413    1\n",
       "       ..\n",
       "3671    1\n",
       "709     0\n",
       "2487    1\n",
       "174     1\n",
       "1146    0\n",
       "Name: Status, Length: 4457, dtype: int32"
      ]
     },
     "execution_count": 48,
     "metadata": {},
     "output_type": "execute_result"
    }
   ],
   "source": [
    "y_train=y_train.astype('int')\n",
    "y_train\n"
   ]
  },
  {
   "cell_type": "code",
   "execution_count": 49,
   "id": "7066a69c",
   "metadata": {},
   "outputs": [
    {
     "data": {
      "text/plain": [
       "MultinomialNB()"
      ]
     },
     "execution_count": 49,
     "metadata": {},
     "output_type": "execute_result"
    }
   ],
   "source": [
    "mnb.fit(x_traincv,y_train)\n"
   ]
  },
  {
   "cell_type": "code",
   "execution_count": 50,
   "id": "7a87187e",
   "metadata": {},
   "outputs": [
    {
     "data": {
      "text/plain": [
       "'somewhere out there beneath the pale moon light someone think in of u some where out there where dreams come true... goodnite &amp; sweet dreams'"
      ]
     },
     "execution_count": 50,
     "metadata": {},
     "output_type": "execute_result"
    }
   ],
   "source": [
    "#testmessage=x_test.iloc[0]\n",
    "#testmessage"
   ]
  },
  {
   "cell_type": "code",
   "execution_count": 66,
   "id": "d45d8df6",
   "metadata": {},
   "outputs": [],
   "source": [
    "predictions=mnb.predict(x_testcv)\n"
   ]
  },
  {
   "cell_type": "code",
   "execution_count": 67,
   "id": "23f55840",
   "metadata": {},
   "outputs": [
    {
     "data": {
      "text/plain": [
       "array([1, 1, 1, ..., 1, 1, 0])"
      ]
     },
     "execution_count": 67,
     "metadata": {},
     "output_type": "execute_result"
    }
   ],
   "source": [
    "predictions\n"
   ]
  },
  {
   "cell_type": "code",
   "execution_count": 68,
   "id": "9c51f3ce",
   "metadata": {},
   "outputs": [
    {
     "data": {
      "text/plain": [
       "array([1, 1, 1, ..., 1, 1, 0], dtype=object)"
      ]
     },
     "execution_count": 68,
     "metadata": {},
     "output_type": "execute_result"
    }
   ],
   "source": [
    "a=np.array(y_test)\n",
    "a"
   ]
  },
  {
   "cell_type": "code",
   "execution_count": 69,
   "id": "8b073e78",
   "metadata": {},
   "outputs": [],
   "source": [
    "count=0\n",
    "for i in range (len(predictions)):\n",
    "    if predictions[i]==a[i]:\n",
    "        count=count+1"
   ]
  },
  {
   "cell_type": "code",
   "execution_count": 70,
   "id": "affaffbb",
   "metadata": {},
   "outputs": [
    {
     "data": {
      "text/plain": [
       "1068"
      ]
     },
     "execution_count": 70,
     "metadata": {},
     "output_type": "execute_result"
    }
   ],
   "source": [
    "count\n"
   ]
  },
  {
   "cell_type": "code",
   "execution_count": 71,
   "id": "1a5728ca",
   "metadata": {},
   "outputs": [
    {
     "data": {
      "text/plain": [
       "1115"
      ]
     },
     "execution_count": 71,
     "metadata": {},
     "output_type": "execute_result"
    }
   ],
   "source": [
    "len(predictions)\n"
   ]
  },
  {
   "cell_type": "code",
   "execution_count": 61,
   "id": "26b328e7",
   "metadata": {},
   "outputs": [
    {
     "data": {
      "text/plain": [
       "0.957847533632287"
      ]
     },
     "execution_count": 61,
     "metadata": {},
     "output_type": "execute_result"
    }
   ],
   "source": [
    "1068/1115.0\n"
   ]
  },
  {
   "cell_type": "code",
   "execution_count": null,
   "id": "789f923e",
   "metadata": {},
   "outputs": [],
   "source": []
  }
 ],
 "metadata": {
  "kernelspec": {
   "display_name": "Python 3 (ipykernel)",
   "language": "python",
   "name": "python3"
  },
  "language_info": {
   "codemirror_mode": {
    "name": "ipython",
    "version": 3
   },
   "file_extension": ".py",
   "mimetype": "text/x-python",
   "name": "python",
   "nbconvert_exporter": "python",
   "pygments_lexer": "ipython3",
   "version": "3.9.13"
  }
 },
 "nbformat": 4,
 "nbformat_minor": 5
}
