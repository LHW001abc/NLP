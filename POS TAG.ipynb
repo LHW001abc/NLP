{
 "cells": [
  {
   "cell_type": "markdown",
   "id": "93df3e9c",
   "metadata": {},
   "source": [
    "Part-of-speech (POS) tagging is a fundamental task in natural language processing (NLP) that involves identifying the grammatical category of each word in a given text. There are several reasons why POS tagging is important in NLP:\n",
    "\n",
    "Parsing: POS tagging is a crucial step in syntactic parsing, which involves analyzing the structure of a sentence to determine its meaning. By identifying the part of speech of each word in a sentence, we can construct a parse tree that represents the syntactic structure of the sentence.\n",
    "\n",
    "Information retrieval: POS tagging can be used to improve the accuracy of information retrieval systems. By identifying the part of speech of a query term, we can narrow down the search space and retrieve only the relevant documents.\n",
    "\n",
    "Machine translation: POS tagging can be used to improve the accuracy of machine translation systems. By identifying the part of speech of each word in a sentence, we can generate more accurate translations that preserve the grammatical structure of the original sentence.\n",
    "\n",
    "Sentiment analysis: POS tagging can be used to improve the accuracy of sentiment analysis, which involves identifying the emotional tone of a piece of text. By identifying the part of speech of each word, we can identify words that are likely to carry sentiment and use them to predict the overall sentiment of the text.\n",
    "\n",
    "Overall, POS tagging is an essential task in NLP that enables a wide range of applications, including parsing, information retrieval, machine translation, and sentiment analysis."
   ]
  },
  {
   "cell_type": "code",
   "execution_count": 33,
   "id": "fe719fd0",
   "metadata": {},
   "outputs": [],
   "source": [
    "import spacy\n",
    "#!python -m spacy download en_core_web_sm"
   ]
  },
  {
   "cell_type": "code",
   "execution_count": 12,
   "id": "52364d08",
   "metadata": {},
   "outputs": [
    {
     "name": "stdout",
     "output_type": "stream",
     "text": [
      "Elon  |  PROPN  |  proper noun\n",
      "flew  |  VERB  |  verb\n",
      "to  |  ADP  |  adposition\n",
      "mars  |  NOUN  |  noun\n",
      "yesterday  |  NOUN  |  noun\n",
      ".  |  PUNCT  |  punctuation\n",
      "He  |  PRON  |  pronoun\n",
      "carried  |  VERB  |  verb\n",
      "biryani  |  ADJ  |  adjective\n",
      "masala  |  NOUN  |  noun\n",
      "with  |  ADP  |  adposition\n",
      "him  |  PRON  |  pronoun\n"
     ]
    }
   ],
   "source": [
    "nlp = spacy.load(\"en_core_web_sm\")\n",
    "doc = nlp(\"Elon flew to mars yesterday. He carried biryani masala with him\")\n",
    "\n",
    "for token in doc:\n",
    "    print(token,\" | \", token.pos_, \" | \", spacy.explain(token.pos_))"
   ]
  },
  {
   "cell_type": "code",
   "execution_count": 13,
   "id": "c2a81fe9",
   "metadata": {},
   "outputs": [
    {
     "name": "stdout",
     "output_type": "stream",
     "text": [
      "Wow  |  INTJ  |  interjection\n",
      "!  |  PUNCT  |  punctuation\n",
      "Dr.  |  PROPN  |  proper noun\n",
      "Strange  |  PROPN  |  proper noun\n",
      "made  |  VERB  |  verb\n",
      "265  |  NUM  |  numeral\n",
      "million  |  NUM  |  numeral\n",
      "$  |  NUM  |  numeral\n",
      "on  |  ADP  |  adposition\n",
      "the  |  DET  |  determiner\n",
      "very  |  ADV  |  adverb\n",
      "first  |  ADJ  |  adjective\n",
      "day  |  NOUN  |  noun\n"
     ]
    }
   ],
   "source": [
    "doc = nlp(\"Wow! Dr. Strange made 265 million $ on the very first day\")\n",
    "\n",
    "for token in doc:\n",
    "    print(token,\" | \", token.pos_, \" | \", spacy.explain(token.pos_))"
   ]
  },
  {
   "cell_type": "code",
   "execution_count": 14,
   "id": "0fcecb7c",
   "metadata": {},
   "outputs": [
    {
     "name": "stdout",
     "output_type": "stream",
     "text": [
      "Wow  |  INTJ  |  interjection  |  UH  |  interjection\n",
      "!  |  PUNCT  |  punctuation  |  .  |  punctuation mark, sentence closer\n",
      "Dr.  |  PROPN  |  proper noun  |  NNP  |  noun, proper singular\n",
      "Strange  |  PROPN  |  proper noun  |  NNP  |  noun, proper singular\n",
      "made  |  VERB  |  verb  |  VBD  |  verb, past tense\n",
      "265  |  NUM  |  numeral  |  CD  |  cardinal number\n",
      "million  |  NUM  |  numeral  |  CD  |  cardinal number\n",
      "$  |  NUM  |  numeral  |  CD  |  cardinal number\n",
      "on  |  ADP  |  adposition  |  IN  |  conjunction, subordinating or preposition\n",
      "the  |  DET  |  determiner  |  DT  |  determiner\n",
      "very  |  ADV  |  adverb  |  RB  |  adverb\n",
      "first  |  ADJ  |  adjective  |  JJ  |  adjective (English), other noun-modifier (Chinese)\n",
      "day  |  NOUN  |  noun  |  NN  |  noun, singular or mass\n"
     ]
    }
   ],
   "source": [
    "doc = nlp(\"Wow! Dr. Strange made 265 million $ on the very first day\")\n",
    "\n",
    "for token in doc:\n",
    "    print(token,\" | \", token.pos_, \" | \", spacy.explain(token.pos_), \" | \", token.tag_, \" | \", spacy.explain(token.tag_))\n"
   ]
  },
  {
   "cell_type": "markdown",
   "id": "de40fe89",
   "metadata": {},
   "source": [
    "### In below sentences Spacy figures out the past vs present tense for quit\n"
   ]
  },
  {
   "cell_type": "code",
   "execution_count": 15,
   "id": "b0593c9e",
   "metadata": {},
   "outputs": [
    {
     "name": "stdout",
     "output_type": "stream",
     "text": [
      "quits | VBZ | verb, 3rd person singular present\n"
     ]
    }
   ],
   "source": [
    "doc = nlp(\"He quits the job\")\n",
    "\n",
    "print(doc[1].text, \"|\", doc[1].tag_, \"|\", spacy.explain(doc[1].tag_))"
   ]
  },
  {
   "cell_type": "code",
   "execution_count": 16,
   "id": "95db7529",
   "metadata": {},
   "outputs": [
    {
     "name": "stdout",
     "output_type": "stream",
     "text": [
      "quit | VBD | verb, past tense\n"
     ]
    }
   ],
   "source": [
    "doc = nlp(\"he quit the job\")\n",
    "\n",
    "print(doc[1].text, \"|\", doc[1].tag_, \"|\", spacy.explain(doc[1].tag_))"
   ]
  },
  {
   "cell_type": "markdown",
   "id": "fbd6440d",
   "metadata": {},
   "source": [
    "### Removing all SPACE, PUNCT and X token from text"
   ]
  },
  {
   "cell_type": "code",
   "execution_count": 26,
   "id": "0fcc5093",
   "metadata": {},
   "outputs": [
    {
     "name": "stdout",
     "output_type": "stream",
     "text": [
      "Microsoft  |  PROPN  |  proper noun  |  NNP  |  noun, proper singular\n",
      "Corp.  |  PROPN  |  proper noun  |  NNP  |  noun, proper singular\n",
      "today  |  NOUN  |  noun  |  NN  |  noun, singular or mass\n",
      "announced  |  VERB  |  verb  |  VBD  |  verb, past tense\n",
      "the  |  DET  |  determiner  |  DT  |  determiner\n",
      "following  |  VERB  |  verb  |  VBG  |  verb, gerund or present participle\n",
      "results  |  NOUN  |  noun  |  NNS  |  noun, plural\n",
      "for  |  ADP  |  adposition  |  IN  |  conjunction, subordinating or preposition\n",
      "the  |  DET  |  determiner  |  DT  |  determiner\n",
      "quarter  |  NOUN  |  noun  |  NN  |  noun, singular or mass\n",
      "ended  |  VERB  |  verb  |  VBD  |  verb, past tense\n",
      "December  |  PROPN  |  proper noun  |  NNP  |  noun, proper singular\n",
      "31  |  NUM  |  numeral  |  CD  |  cardinal number\n",
      ",  |  PUNCT  |  punctuation  |  ,  |  punctuation mark, comma\n",
      "2021  |  NUM  |  numeral  |  CD  |  cardinal number\n",
      ",  |  PUNCT  |  punctuation  |  ,  |  punctuation mark, comma\n",
      "as  |  SCONJ  |  subordinating conjunction  |  IN  |  conjunction, subordinating or preposition\n",
      "compared  |  VERB  |  verb  |  VBN  |  verb, past participle\n",
      "to  |  ADP  |  adposition  |  IN  |  conjunction, subordinating or preposition\n",
      "the  |  DET  |  determiner  |  DT  |  determiner\n",
      "corresponding  |  ADJ  |  adjective  |  JJ  |  adjective (English), other noun-modifier (Chinese)\n",
      "period  |  NOUN  |  noun  |  NN  |  noun, singular or mass\n",
      "of  |  ADP  |  adposition  |  IN  |  conjunction, subordinating or preposition\n",
      "last  |  ADJ  |  adjective  |  JJ  |  adjective (English), other noun-modifier (Chinese)\n",
      "fiscal  |  ADJ  |  adjective  |  JJ  |  adjective (English), other noun-modifier (Chinese)\n",
      "year  |  NOUN  |  noun  |  NN  |  noun, singular or mass\n",
      ":  |  PUNCT  |  punctuation  |  :  |  punctuation mark, colon or ellipsis\n",
      "\n",
      "\n",
      "  |  SPACE  |  space  |  _SP  |  whitespace\n",
      "·  |  PUNCT  |  punctuation  |  NFP  |  superfluous punctuation\n",
      "          |  SPACE  |  space  |  _SP  |  whitespace\n",
      "Revenue  |  NOUN  |  noun  |  NN  |  noun, singular or mass\n",
      "was  |  AUX  |  auxiliary  |  VBD  |  verb, past tense\n",
      "$  |  SYM  |  symbol  |  $  |  symbol, currency\n",
      "51.7  |  NUM  |  numeral  |  CD  |  cardinal number\n",
      "billion  |  NUM  |  numeral  |  CD  |  cardinal number\n",
      "and  |  CCONJ  |  coordinating conjunction  |  CC  |  conjunction, coordinating\n",
      "increased  |  VERB  |  verb  |  VBD  |  verb, past tense\n",
      "20  |  NUM  |  numeral  |  CD  |  cardinal number\n",
      "%  |  NOUN  |  noun  |  NN  |  noun, singular or mass\n",
      "\n",
      "  |  SPACE  |  space  |  _SP  |  whitespace\n",
      "·  |  PUNCT  |  punctuation  |  NFP  |  superfluous punctuation\n",
      "          |  SPACE  |  space  |  _SP  |  whitespace\n",
      "Operating  |  VERB  |  verb  |  VBG  |  verb, gerund or present participle\n",
      "income  |  NOUN  |  noun  |  NN  |  noun, singular or mass\n",
      "was  |  AUX  |  auxiliary  |  VBD  |  verb, past tense\n",
      "$  |  SYM  |  symbol  |  $  |  symbol, currency\n",
      "22.2  |  NUM  |  numeral  |  CD  |  cardinal number\n",
      "billion  |  NUM  |  numeral  |  CD  |  cardinal number\n",
      "and  |  CCONJ  |  coordinating conjunction  |  CC  |  conjunction, coordinating\n",
      "increased  |  VERB  |  verb  |  VBD  |  verb, past tense\n",
      "24  |  NUM  |  numeral  |  CD  |  cardinal number\n",
      "%  |  NOUN  |  noun  |  NN  |  noun, singular or mass\n",
      "\n",
      "  |  SPACE  |  space  |  _SP  |  whitespace\n",
      "·  |  PUNCT  |  punctuation  |  NFP  |  superfluous punctuation\n",
      "          |  SPACE  |  space  |  _SP  |  whitespace\n",
      "Net  |  ADJ  |  adjective  |  JJ  |  adjective (English), other noun-modifier (Chinese)\n",
      "income  |  NOUN  |  noun  |  NN  |  noun, singular or mass\n",
      "was  |  AUX  |  auxiliary  |  VBD  |  verb, past tense\n",
      "$  |  SYM  |  symbol  |  $  |  symbol, currency\n",
      "18.8  |  NUM  |  numeral  |  CD  |  cardinal number\n",
      "billion  |  NUM  |  numeral  |  CD  |  cardinal number\n",
      "and  |  CCONJ  |  coordinating conjunction  |  CC  |  conjunction, coordinating\n",
      "increased  |  VERB  |  verb  |  VBD  |  verb, past tense\n",
      "21  |  NUM  |  numeral  |  CD  |  cardinal number\n",
      "%  |  NOUN  |  noun  |  NN  |  noun, singular or mass\n",
      "\n",
      "  |  SPACE  |  space  |  _SP  |  whitespace\n",
      "·  |  PUNCT  |  punctuation  |  NFP  |  superfluous punctuation\n",
      "          |  SPACE  |  space  |  _SP  |  whitespace\n",
      "Diluted  |  VERB  |  verb  |  VBN  |  verb, past participle\n",
      "earnings  |  NOUN  |  noun  |  NNS  |  noun, plural\n",
      "per  |  ADP  |  adposition  |  IN  |  conjunction, subordinating or preposition\n",
      "share  |  NOUN  |  noun  |  NN  |  noun, singular or mass\n",
      "was  |  AUX  |  auxiliary  |  VBD  |  verb, past tense\n",
      "$  |  SYM  |  symbol  |  $  |  symbol, currency\n",
      "2.48  |  NUM  |  numeral  |  CD  |  cardinal number\n",
      "and  |  CCONJ  |  coordinating conjunction  |  CC  |  conjunction, coordinating\n",
      "increased  |  VERB  |  verb  |  VBD  |  verb, past tense\n",
      "22  |  NUM  |  numeral  |  CD  |  cardinal number\n",
      "%  |  NOUN  |  noun  |  NN  |  noun, singular or mass\n",
      "\n",
      "  |  SPACE  |  space  |  _SP  |  whitespace\n",
      "“  |  PUNCT  |  punctuation  |  ``  |  opening quotation mark\n",
      "Digital  |  PROPN  |  proper noun  |  NNP  |  noun, proper singular\n",
      "technology  |  NOUN  |  noun  |  NN  |  noun, singular or mass\n",
      "etc  |  X  |  other  |  FW  |  foreign word\n",
      ".  |  X  |  other  |  FW  |  foreign word\n",
      "is  |  AUX  |  auxiliary  |  VBZ  |  verb, 3rd person singular present\n",
      "the  |  DET  |  determiner  |  DT  |  determiner\n",
      "most  |  ADV  |  adverb  |  RBS  |  adverb, superlative\n",
      "malleable  |  ADJ  |  adjective  |  JJ  |  adjective (English), other noun-modifier (Chinese)\n",
      "resource  |  NOUN  |  noun  |  NN  |  noun, singular or mass\n",
      "at  |  ADP  |  adposition  |  IN  |  conjunction, subordinating or preposition\n",
      "the  |  DET  |  determiner  |  DT  |  determiner\n",
      "world  |  NOUN  |  noun  |  NN  |  noun, singular or mass\n",
      "’s  |  PART  |  particle  |  POS  |  possessive ending\n",
      "disposal  |  NOUN  |  noun  |  NN  |  noun, singular or mass\n",
      "to  |  PART  |  particle  |  TO  |  infinitival \"to\"\n",
      "overcome  |  VERB  |  verb  |  VB  |  verb, base form\n",
      "constraints  |  NOUN  |  noun  |  NNS  |  noun, plural\n",
      "and  |  CCONJ  |  coordinating conjunction  |  CC  |  conjunction, coordinating\n",
      "reimagine  |  VERB  |  verb  |  VB  |  verb, base form\n",
      "everyday  |  ADJ  |  adjective  |  JJ  |  adjective (English), other noun-modifier (Chinese)\n",
      "work  |  NOUN  |  noun  |  NN  |  noun, singular or mass\n",
      "and  |  CCONJ  |  coordinating conjunction  |  CC  |  conjunction, coordinating\n",
      "life  |  NOUN  |  noun  |  NN  |  noun, singular or mass\n",
      ",  |  PUNCT  |  punctuation  |  ,  |  punctuation mark, comma\n",
      "”  |  PUNCT  |  punctuation  |  ''  |  closing quotation mark\n",
      "said  |  VERB  |  verb  |  VBD  |  verb, past tense\n",
      "Satya  |  PROPN  |  proper noun  |  NNP  |  noun, proper singular\n",
      "Nadella  |  PROPN  |  proper noun  |  NNP  |  noun, proper singular\n",
      ",  |  PUNCT  |  punctuation  |  ,  |  punctuation mark, comma\n",
      "chairman  |  NOUN  |  noun  |  NN  |  noun, singular or mass\n",
      "and  |  CCONJ  |  coordinating conjunction  |  CC  |  conjunction, coordinating\n",
      "chief  |  ADJ  |  adjective  |  JJ  |  adjective (English), other noun-modifier (Chinese)\n",
      "executive  |  ADJ  |  adjective  |  JJ  |  adjective (English), other noun-modifier (Chinese)\n",
      "officer  |  NOUN  |  noun  |  NN  |  noun, singular or mass\n",
      "of  |  ADP  |  adposition  |  IN  |  conjunction, subordinating or preposition\n",
      "Microsoft  |  PROPN  |  proper noun  |  NNP  |  noun, proper singular\n",
      ".  |  PUNCT  |  punctuation  |  .  |  punctuation mark, sentence closer\n",
      "“  |  PUNCT  |  punctuation  |  ``  |  opening quotation mark\n",
      "As  |  ADV  |  adverb  |  RB  |  adverb\n",
      "tech  |  NOUN  |  noun  |  NN  |  noun, singular or mass\n",
      "as  |  ADP  |  adposition  |  IN  |  conjunction, subordinating or preposition\n",
      "a  |  DET  |  determiner  |  DT  |  determiner\n",
      "percentage  |  NOUN  |  noun  |  NN  |  noun, singular or mass\n",
      "of  |  ADP  |  adposition  |  IN  |  conjunction, subordinating or preposition\n",
      "global  |  ADJ  |  adjective  |  JJ  |  adjective (English), other noun-modifier (Chinese)\n",
      "GDP  |  PROPN  |  proper noun  |  NNP  |  noun, proper singular\n",
      "continues  |  VERB  |  verb  |  VBZ  |  verb, 3rd person singular present\n",
      "to  |  PART  |  particle  |  TO  |  infinitival \"to\"\n",
      "increase  |  VERB  |  verb  |  VB  |  verb, base form\n",
      ",  |  PUNCT  |  punctuation  |  ,  |  punctuation mark, comma\n",
      "we  |  PRON  |  pronoun  |  PRP  |  pronoun, personal\n",
      "are  |  AUX  |  auxiliary  |  VBP  |  verb, non-3rd person singular present\n",
      "innovating  |  VERB  |  verb  |  VBG  |  verb, gerund or present participle\n",
      "and  |  CCONJ  |  coordinating conjunction  |  CC  |  conjunction, coordinating\n",
      "investing  |  VERB  |  verb  |  VBG  |  verb, gerund or present participle\n",
      "across  |  ADP  |  adposition  |  IN  |  conjunction, subordinating or preposition\n",
      "diverse  |  ADJ  |  adjective  |  JJ  |  adjective (English), other noun-modifier (Chinese)\n",
      "and  |  CCONJ  |  coordinating conjunction  |  CC  |  conjunction, coordinating\n",
      "growing  |  VERB  |  verb  |  VBG  |  verb, gerund or present participle\n",
      "markets  |  NOUN  |  noun  |  NNS  |  noun, plural\n",
      ",  |  PUNCT  |  punctuation  |  ,  |  punctuation mark, comma\n",
      "with  |  ADP  |  adposition  |  IN  |  conjunction, subordinating or preposition\n",
      "a  |  DET  |  determiner  |  DT  |  determiner\n",
      "common  |  ADJ  |  adjective  |  JJ  |  adjective (English), other noun-modifier (Chinese)\n",
      "underlying  |  VERB  |  verb  |  VBG  |  verb, gerund or present participle\n",
      "technology  |  NOUN  |  noun  |  NN  |  noun, singular or mass\n",
      "stack  |  NOUN  |  noun  |  NN  |  noun, singular or mass\n",
      "and  |  CCONJ  |  coordinating conjunction  |  CC  |  conjunction, coordinating\n",
      "an  |  DET  |  determiner  |  DT  |  determiner\n",
      "operating  |  NOUN  |  noun  |  NN  |  noun, singular or mass\n",
      "model  |  NOUN  |  noun  |  NN  |  noun, singular or mass\n",
      "that  |  PRON  |  pronoun  |  WDT  |  wh-determiner\n",
      "reinforces  |  VERB  |  verb  |  VBZ  |  verb, 3rd person singular present\n",
      "a  |  DET  |  determiner  |  DT  |  determiner\n",
      "common  |  ADJ  |  adjective  |  JJ  |  adjective (English), other noun-modifier (Chinese)\n",
      "strategy  |  NOUN  |  noun  |  NN  |  noun, singular or mass\n",
      ",  |  PUNCT  |  punctuation  |  ,  |  punctuation mark, comma\n",
      "culture  |  NOUN  |  noun  |  NN  |  noun, singular or mass\n",
      ",  |  PUNCT  |  punctuation  |  ,  |  punctuation mark, comma\n",
      "and  |  CCONJ  |  coordinating conjunction  |  CC  |  conjunction, coordinating\n",
      "sense  |  NOUN  |  noun  |  NN  |  noun, singular or mass\n",
      "of  |  ADP  |  adposition  |  IN  |  conjunction, subordinating or preposition\n",
      "purpose  |  NOUN  |  noun  |  NN  |  noun, singular or mass\n",
      ".  |  PUNCT  |  punctuation  |  .  |  punctuation mark, sentence closer\n",
      "”  |  PUNCT  |  punctuation  |  ''  |  closing quotation mark\n",
      "\n",
      "  |  SPACE  |  space  |  _SP  |  whitespace\n",
      "“  |  PUNCT  |  punctuation  |  ``  |  opening quotation mark\n",
      "Solid  |  ADJ  |  adjective  |  JJ  |  adjective (English), other noun-modifier (Chinese)\n",
      "commercial  |  ADJ  |  adjective  |  JJ  |  adjective (English), other noun-modifier (Chinese)\n",
      "execution  |  NOUN  |  noun  |  NN  |  noun, singular or mass\n",
      ",  |  PUNCT  |  punctuation  |  ,  |  punctuation mark, comma\n",
      "represented  |  VERB  |  verb  |  VBN  |  verb, past participle\n",
      "by  |  ADP  |  adposition  |  IN  |  conjunction, subordinating or preposition\n",
      "strong  |  ADJ  |  adjective  |  JJ  |  adjective (English), other noun-modifier (Chinese)\n",
      "bookings  |  NOUN  |  noun  |  NNS  |  noun, plural\n",
      "growth  |  NOUN  |  noun  |  NN  |  noun, singular or mass\n",
      "driven  |  VERB  |  verb  |  VBN  |  verb, past participle\n",
      "by  |  ADP  |  adposition  |  IN  |  conjunction, subordinating or preposition\n",
      "long  |  ADJ  |  adjective  |  JJ  |  adjective (English), other noun-modifier (Chinese)\n",
      "-  |  PUNCT  |  punctuation  |  HYPH  |  punctuation mark, hyphen\n",
      "term  |  NOUN  |  noun  |  NN  |  noun, singular or mass\n",
      "Azure  |  ADJ  |  adjective  |  JJ  |  adjective (English), other noun-modifier (Chinese)\n",
      "commitments  |  NOUN  |  noun  |  NNS  |  noun, plural\n",
      ",  |  PUNCT  |  punctuation  |  ,  |  punctuation mark, comma\n",
      "increased  |  VERB  |  verb  |  VBD  |  verb, past tense\n",
      "Microsoft  |  PROPN  |  proper noun  |  NNP  |  noun, proper singular\n",
      "Cloud  |  PROPN  |  proper noun  |  NNP  |  noun, proper singular\n",
      "revenue  |  NOUN  |  noun  |  NN  |  noun, singular or mass\n",
      "to  |  ADP  |  adposition  |  IN  |  conjunction, subordinating or preposition\n",
      "$  |  SYM  |  symbol  |  $  |  symbol, currency\n",
      "22.1  |  NUM  |  numeral  |  CD  |  cardinal number\n",
      "billion  |  NUM  |  numeral  |  CD  |  cardinal number\n",
      ",  |  PUNCT  |  punctuation  |  ,  |  punctuation mark, comma\n",
      "up  |  ADV  |  adverb  |  RB  |  adverb\n",
      "32  |  NUM  |  numeral  |  CD  |  cardinal number\n",
      "%  |  NOUN  |  noun  |  NN  |  noun, singular or mass\n",
      "year  |  NOUN  |  noun  |  NN  |  noun, singular or mass\n",
      "over  |  ADP  |  adposition  |  IN  |  conjunction, subordinating or preposition\n",
      "year  |  NOUN  |  noun  |  NN  |  noun, singular or mass\n",
      "”  |  PUNCT  |  punctuation  |  ''  |  closing quotation mark\n",
      "said  |  VERB  |  verb  |  VBD  |  verb, past tense\n",
      "Amy  |  PROPN  |  proper noun  |  NNP  |  noun, proper singular\n",
      "Hood  |  PROPN  |  proper noun  |  NNP  |  noun, proper singular\n",
      ",  |  PUNCT  |  punctuation  |  ,  |  punctuation mark, comma\n",
      "executive  |  ADJ  |  adjective  |  JJ  |  adjective (English), other noun-modifier (Chinese)\n",
      "vice  |  NOUN  |  noun  |  NN  |  noun, singular or mass\n",
      "president  |  NOUN  |  noun  |  NN  |  noun, singular or mass\n",
      "and  |  CCONJ  |  coordinating conjunction  |  CC  |  conjunction, coordinating\n",
      "chief  |  ADJ  |  adjective  |  JJ  |  adjective (English), other noun-modifier (Chinese)\n",
      "financial  |  ADJ  |  adjective  |  JJ  |  adjective (English), other noun-modifier (Chinese)\n",
      "officer  |  NOUN  |  noun  |  NN  |  noun, singular or mass\n",
      "of  |  ADP  |  adposition  |  IN  |  conjunction, subordinating or preposition\n",
      "Microsoft  |  PROPN  |  proper noun  |  NNP  |  noun, proper singular\n",
      ".  |  PUNCT  |  punctuation  |  .  |  punctuation mark, sentence closer\n"
     ]
    }
   ],
   "source": [
    "earnings_text=\"\"\"Microsoft Corp. today announced the following results for the quarter ended December 31, 2021, as compared to the corresponding period of last fiscal year:\n",
    "\n",
    "·         Revenue was $51.7 billion and increased 20%\n",
    "·         Operating income was $22.2 billion and increased 24%\n",
    "·         Net income was $18.8 billion and increased 21%\n",
    "·         Diluted earnings per share was $2.48 and increased 22%\n",
    "“Digital technology etc. is the most malleable resource at the world’s disposal to overcome constraints and reimagine everyday work and life,” said Satya Nadella, chairman and chief executive officer of Microsoft. “As tech as a percentage of global GDP continues to increase, we are innovating and investing across diverse and growing markets, with a common underlying technology stack and an operating model that reinforces a common strategy, culture, and sense of purpose.”\n",
    "“Solid commercial execution, represented by strong bookings growth driven by long-term Azure commitments, increased Microsoft Cloud revenue to $22.1 billion, up 32% year over year” said Amy Hood, executive vice president and chief financial officer of Microsoft.\"\"\"\n",
    "\n",
    "doc = nlp(earnings_text)\n",
    "\n",
    "for token in doc:\n",
    "    print(token,\" | \", token.pos_, \" | \", spacy.explain(token.pos_), \" | \", token.tag_, \" | \", spacy.explain(token.tag_))\n"
   ]
  },
  {
   "cell_type": "code",
   "execution_count": 34,
   "id": "43852133",
   "metadata": {},
   "outputs": [],
   "source": [
    "earnings_text=\"\"\"Microsoft Corp. today announced the following results for the quarter ended December 31, 2021, as compared to the corresponding period of last fiscal year:\n",
    "\n",
    "·         Revenue was $51.7 billion and increased 20%\n",
    "·         Operating income was $22.2 billion and increased 24%\n",
    "·         Net income was $18.8 billion and increased 21%\n",
    "·         Diluted earnings per share was $2.48 and increased 22%\n",
    "“Digital technology is the most malleable resource at the world’s disposal to overcome constraints and reimagine everyday work and life,” said Satya Nadella, chairman and chief executive officer of Microsoft. “As tech as a percentage of global GDP continues to increase, we are innovating and investing across diverse and growing markets, with a common underlying technology stack and an operating model that reinforces a common strategy, culture, and sense of purpose.”\n",
    "“Solid commercial execution, represented by strong bookings growth driven by long-term Azure commitments, increased Microsoft Cloud revenue to $22.1 billion, up 32% year over year” said Amy Hood, executive vice president and chief financial officer of Microsoft.\"\"\"\n",
    "\n",
    "doc = nlp(earnings_text)\n",
    "\n",
    "filtered_tokens = []\n",
    "\n",
    "for token in doc:\n",
    "    if token.pos_ not in [\"SPACE\", \"PUNCT\", \"X\"]:\n",
    "        filtered_tokens.append(token)"
   ]
  },
  {
   "cell_type": "code",
   "execution_count": 38,
   "id": "b78133d6",
   "metadata": {},
   "outputs": [
    {
     "data": {
      "text/plain": [
       "[Microsoft,\n",
       " Corp.,\n",
       " today,\n",
       " announced,\n",
       " the,\n",
       " following,\n",
       " results,\n",
       " for,\n",
       " the,\n",
       " quarter]"
      ]
     },
     "execution_count": 38,
     "metadata": {},
     "output_type": "execute_result"
    }
   ],
   "source": [
    "filtered_tokens[:10]\n"
   ]
  },
  {
   "cell_type": "code",
   "execution_count": 27,
   "id": "c349331c",
   "metadata": {},
   "outputs": [
    {
     "data": {
      "text/plain": [
       "{96: 13,\n",
       " 92: 46,\n",
       " 100: 24,\n",
       " 90: 9,\n",
       " 85: 16,\n",
       " 93: 16,\n",
       " 97: 27,\n",
       " 98: 1,\n",
       " 84: 20,\n",
       " 103: 10,\n",
       " 87: 6,\n",
       " 99: 5,\n",
       " 89: 12,\n",
       " 101: 2,\n",
       " 86: 3,\n",
       " 94: 3,\n",
       " 95: 2}"
      ]
     },
     "execution_count": 27,
     "metadata": {},
     "output_type": "execute_result"
    }
   ],
   "source": [
    "count = doc.count_by(spacy.attrs.POS)\n",
    "count"
   ]
  },
  {
   "cell_type": "code",
   "execution_count": 29,
   "id": "679cf096",
   "metadata": {},
   "outputs": [
    {
     "data": {
      "text/plain": [
       "'PROPN'"
      ]
     },
     "execution_count": 29,
     "metadata": {},
     "output_type": "execute_result"
    }
   ],
   "source": [
    "doc.vocab[96].text"
   ]
  },
  {
   "cell_type": "code",
   "execution_count": 30,
   "id": "25ad9fdf",
   "metadata": {},
   "outputs": [
    {
     "data": {
      "text/plain": [
       "dict_items([(96, 13), (92, 46), (100, 24), (90, 9), (85, 16), (93, 16), (97, 27), (98, 1), (84, 20), (103, 10), (87, 6), (99, 5), (89, 12), (101, 2), (86, 3), (94, 3), (95, 2)])"
      ]
     },
     "execution_count": 30,
     "metadata": {},
     "output_type": "execute_result"
    }
   ],
   "source": [
    "count.items()"
   ]
  },
  {
   "cell_type": "code",
   "execution_count": 31,
   "id": "0f5a2ab4",
   "metadata": {},
   "outputs": [
    {
     "name": "stdout",
     "output_type": "stream",
     "text": [
      "PROPN | 13\n",
      "NOUN | 46\n",
      "VERB | 24\n",
      "DET | 9\n",
      "ADP | 16\n",
      "NUM | 16\n",
      "PUNCT | 27\n",
      "SCONJ | 1\n",
      "ADJ | 20\n",
      "SPACE | 10\n",
      "AUX | 6\n",
      "SYM | 5\n",
      "CCONJ | 12\n",
      "X | 2\n",
      "ADV | 3\n",
      "PART | 3\n",
      "PRON | 2\n"
     ]
    }
   ],
   "source": [
    "for k,v in count.items():\n",
    "    print(doc.vocab[k].text, \"|\",v)"
   ]
  },
  {
   "cell_type": "code",
   "execution_count": null,
   "id": "5928d459",
   "metadata": {},
   "outputs": [],
   "source": []
  },
  {
   "cell_type": "code",
   "execution_count": 7,
   "id": "975836ab",
   "metadata": {},
   "outputs": [
    {
     "name": "stdout",
     "output_type": "stream",
     "text": [
      "The DT\n",
      "quick JJ\n",
      "brown NN\n",
      "fox NN\n",
      "jumps VBZ\n",
      "over IN\n",
      "the DT\n",
      "lazy JJ\n",
      "dog NN\n",
      ". .\n"
     ]
    }
   ],
   "source": [
    "import nltk\n",
    "#nltk.download('punkt')\n",
    "#nltk.download('averaged_perceptron_tagger')\n",
    "\n",
    "text = \"The quick brown fox jumps over the lazy dog.\"\n",
    "\n",
    "# Tokenize the text into individual words\n",
    "words = nltk.word_tokenize(text)\n",
    "\n",
    "# Perform POS tagging on the tokenized words\n",
    "pos_tags = nltk.pos_tag(words)\n",
    "\n",
    "# Print the POS tags for each word\n",
    "for word, tag in pos_tags:\n",
    "    print(word, tag)\n"
   ]
  },
  {
   "cell_type": "code",
   "execution_count": null,
   "id": "81a1cbd4",
   "metadata": {},
   "outputs": [],
   "source": []
  },
  {
   "cell_type": "code",
   "execution_count": null,
   "id": "d44a99f4",
   "metadata": {},
   "outputs": [],
   "source": []
  },
  {
   "cell_type": "code",
   "execution_count": null,
   "id": "7756aa9a",
   "metadata": {},
   "outputs": [],
   "source": []
  },
  {
   "cell_type": "code",
   "execution_count": null,
   "id": "16365976",
   "metadata": {},
   "outputs": [],
   "source": []
  },
  {
   "cell_type": "code",
   "execution_count": null,
   "id": "a04253a0",
   "metadata": {},
   "outputs": [],
   "source": []
  },
  {
   "cell_type": "code",
   "execution_count": null,
   "id": "3e678e13",
   "metadata": {},
   "outputs": [],
   "source": []
  },
  {
   "cell_type": "code",
   "execution_count": null,
   "id": "50c84bc8",
   "metadata": {},
   "outputs": [],
   "source": []
  },
  {
   "cell_type": "code",
   "execution_count": null,
   "id": "b44be08d",
   "metadata": {},
   "outputs": [],
   "source": []
  },
  {
   "cell_type": "code",
   "execution_count": null,
   "id": "ad7d6dea",
   "metadata": {},
   "outputs": [],
   "source": []
  },
  {
   "cell_type": "code",
   "execution_count": null,
   "id": "2754a9de",
   "metadata": {},
   "outputs": [],
   "source": []
  },
  {
   "cell_type": "code",
   "execution_count": null,
   "id": "d58fe55c",
   "metadata": {},
   "outputs": [],
   "source": []
  },
  {
   "cell_type": "code",
   "execution_count": null,
   "id": "6611ec28",
   "metadata": {},
   "outputs": [],
   "source": []
  },
  {
   "cell_type": "code",
   "execution_count": null,
   "id": "cd5bf91a",
   "metadata": {},
   "outputs": [],
   "source": []
  },
  {
   "cell_type": "code",
   "execution_count": null,
   "id": "f1840293",
   "metadata": {},
   "outputs": [],
   "source": []
  },
  {
   "cell_type": "code",
   "execution_count": null,
   "id": "0d1c63e9",
   "metadata": {},
   "outputs": [],
   "source": []
  }
 ],
 "metadata": {
  "kernelspec": {
   "display_name": "Python 3 (ipykernel)",
   "language": "python",
   "name": "python3"
  },
  "language_info": {
   "codemirror_mode": {
    "name": "ipython",
    "version": 3
   },
   "file_extension": ".py",
   "mimetype": "text/x-python",
   "name": "python",
   "nbconvert_exporter": "python",
   "pygments_lexer": "ipython3",
   "version": "3.9.13"
  }
 },
 "nbformat": 4,
 "nbformat_minor": 5
}
